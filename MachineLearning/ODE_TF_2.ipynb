{
 "cells": [
  {
   "cell_type": "code",
   "execution_count": 1,
   "metadata": {},
   "outputs": [],
   "source": [
    "import math\n",
    "import numpy as np\n",
    "import h5py\n",
    "import matplotlib.pyplot as plt\n",
    "from matplotlib.pyplot import imread\n",
    "import scipy\n",
    "from PIL import Image\n",
    "import pandas as pd\n",
    "import tensorflow as tf\n",
    "import tensorflow.keras.layers as tfl\n",
    "from tensorflow.python.framework import ops\n",
    "\n",
    "%matplotlib inline"
   ]
  },
  {
   "cell_type": "code",
   "execution_count": 7,
   "metadata": {},
   "outputs": [
    {
     "output_type": "stream",
     "name": "stdout",
     "text": "number of training examples = 100\nX_train shape: (100, 4)\nY_train shape: (100, 2)\n"
    }
   ],
   "source": [
    "num = 100 \n",
    "num_inputs = 4\n",
    "num_outputs = 2\n",
    "X_train = np.zeros((num, num_inputs))\n",
    "Y_train = np.zeros((num, num_inputs))\n",
    "\n",
    "X = np.linspace(0, 9, num)\n",
    "C = np.zeros((num, 2))\n",
    "\n",
    "for i in range(num):\n",
    "    C[i,0] = 20.0*i/num \n",
    "    C[i,1] = C[i,0] + 5.0 \n",
    "\n",
    "for i in range(X_train.shape[0]):\n",
    "    X_train[i,0] = X[i] # velocity \n",
    "    X_train[i,1] = 0.0 # acc\n",
    "    X_train[i,2] = C[i,0] # s at t = 1.0 \n",
    "    X_train[i,3] = C[i,1] # s at t = 2.0 \n",
    "    Y_train[i,0] = X[i] # velocity \n",
    "    Y_train[i,1] = 0.0 # acc\n",
    "    Y_train[i,2] = C[i,0] # s at t = 1.0 \n",
    "    Y_train[i,3] = C[i,1] # s at t = 2.0 \n",
    "\n",
    "\n",
    "print (\"number of training examples = \" + str(X_train.shape[0]))\n",
    "# print (\"number of test examples = \" + str(X_test.shape[0]))\n",
    "print (\"X_train shape: \" + str(X_train.shape))\n",
    "print (\"Y_train shape: \" + str(Y_train.shape))\n",
    "# print (\"X_test shape: \" + str(X_test.shape))\n",
    "# print (\"Y_test shape: \" + str(Y_test.shape))"
   ]
  },
  {
   "cell_type": "code",
   "execution_count": 8,
   "metadata": {},
   "outputs": [],
   "source": [
    "model = tf.keras.Sequential([ tf.keras.layers.Dense(32, activation='relu'), \n",
    "tf.keras.layers.Dense(32, activation='relu'), \n",
    "tf.keras.layers.Dense(2, activation='linear') ])"
   ]
  },
  {
   "cell_type": "code",
   "execution_count": 24,
   "metadata": {},
   "outputs": [],
   "source": [
    "## need to add a layer that goes from input directly to the output layer without passing through the NN\n",
    "def custom_loss(y_actual, y_pred):\n",
    "    print(y_actual)\n",
    "    # y_actual[0,0]+1\n",
    "    # print(tf.cast(y_actual[0,0], tf.int32))\n",
    "    custom_loss = tf.keras.backend.square( y_actual - y_pred )\n",
    "    return custom_loss"
   ]
  },
  {
   "cell_type": "code",
   "execution_count": 25,
   "metadata": {},
   "outputs": [],
   "source": [
    "model.compile(optimizer='adam', loss=custom_loss, metrics=[\"mse\"])"
   ]
  },
  {
   "cell_type": "code",
   "execution_count": 26,
   "metadata": {},
   "outputs": [
    {
     "output_type": "stream",
     "name": "stdout",
     "text": "Epoch 1/50\nTensor(\"IteratorGetNext:1\", shape=(None, 2), dtype=float32)\nTensor(\"custom_loss/Cast:0\", shape=(), dtype=int32)\nTensor(\"IteratorGetNext:1\", shape=(None, 2), dtype=float32)\nTensor(\"custom_loss/Cast:0\", shape=(), dtype=int32)\n3/3 [==============================] - 0s 2ms/step - loss: 0.0386 - mse: 0.0386    \nEpoch 2/50\n3/3 [==============================] - 0s 2ms/step - loss: 0.0432 - mse: 0.0432\nEpoch 3/50\n3/3 [==============================] - 0s 2ms/step - loss: 0.0119 - mse: 0.0119\nEpoch 4/50\n3/3 [==============================] - 0s 2ms/step - loss: 0.0241 - mse: 0.0241\nEpoch 5/50\n3/3 [==============================] - 0s 2ms/step - loss: 0.0065 - mse: 0.0065\nEpoch 6/50\n3/3 [==============================] - 0s 2ms/step - loss: 0.0145 - mse: 0.0145\nEpoch 7/50\n3/3 [==============================] - 0s 3ms/step - loss: 0.0033 - mse: 0.0033\nEpoch 8/50\n3/3 [==============================] - 0s 3ms/step - loss: 0.0076 - mse: 0.0076\nEpoch 9/50\n3/3 [==============================] - 0s 2ms/step - loss: 0.0017 - mse: 0.0017\nEpoch 10/50\n3/3 [==============================] - 0s 2ms/step - loss: 0.0049 - mse: 0.0049\nEpoch 11/50\n3/3 [==============================] - 0s 2ms/step - loss: 0.0011 - mse: 0.0011\nEpoch 12/50\n3/3 [==============================] - 0s 2ms/step - loss: 0.0030 - mse: 0.0030\nEpoch 13/50\n3/3 [==============================] - 0s 2ms/step - loss: 5.9054e-04 - mse: 5.9054e-04\nEpoch 14/50\n3/3 [==============================] - 0s 2ms/step - loss: 0.0016 - mse: 0.0016\nEpoch 15/50\n3/3 [==============================] - 0s 2ms/step - loss: 4.4561e-04 - mse: 4.4561e-04\nEpoch 16/50\n3/3 [==============================] - 0s 2ms/step - loss: 9.4434e-04 - mse: 9.4434e-04\nEpoch 17/50\n3/3 [==============================] - 0s 2ms/step - loss: 2.2707e-04 - mse: 2.2707e-04\nEpoch 18/50\n3/3 [==============================] - 0s 2ms/step - loss: 4.9109e-04 - mse: 4.9109e-04\nEpoch 19/50\n3/3 [==============================] - 0s 2ms/step - loss: 2.6693e-04 - mse: 2.6693e-04\nEpoch 20/50\n3/3 [==============================] - 0s 2ms/step - loss: 1.9990e-04 - mse: 1.9990e-04\nEpoch 21/50\n3/3 [==============================] - 0s 2ms/step - loss: 2.0486e-04 - mse: 2.0486e-04\nEpoch 22/50\n3/3 [==============================] - 0s 2ms/step - loss: 8.3395e-05 - mse: 8.3395e-05\nEpoch 23/50\n3/3 [==============================] - 0s 2ms/step - loss: 1.2741e-04 - mse: 1.2741e-04\nEpoch 24/50\n3/3 [==============================] - 0s 2ms/step - loss: 6.3121e-05 - mse: 6.3121e-05\nEpoch 25/50\n3/3 [==============================] - 0s 2ms/step - loss: 5.8149e-05 - mse: 5.8149e-05\nEpoch 26/50\n3/3 [==============================] - 0s 3ms/step - loss: 6.9646e-05 - mse: 6.9646e-05\nEpoch 27/50\n3/3 [==============================] - 0s 3ms/step - loss: 4.3832e-05 - mse: 4.3832e-05\nEpoch 28/50\n3/3 [==============================] - 0s 2ms/step - loss: 4.2107e-05 - mse: 4.2107e-05\nEpoch 29/50\n3/3 [==============================] - 0s 12ms/step - loss: 4.3264e-05 - mse: 4.3264e-05\nEpoch 30/50\n3/3 [==============================] - 0s 3ms/step - loss: 3.2768e-05 - mse: 3.2768e-05\nEpoch 31/50\n3/3 [==============================] - 0s 2ms/step - loss: 3.2577e-05 - mse: 3.2577e-05\nEpoch 32/50\n3/3 [==============================] - 0s 3ms/step - loss: 3.2490e-05 - mse: 3.2490e-05\nEpoch 33/50\n3/3 [==============================] - 0s 3ms/step - loss: 2.6173e-05 - mse: 2.6173e-05\nEpoch 34/50\n3/3 [==============================] - 0s 4ms/step - loss: 2.6625e-05 - mse: 2.6625e-05\nEpoch 35/50\n3/3 [==============================] - 0s 2ms/step - loss: 2.6856e-05 - mse: 2.6856e-05\nEpoch 36/50\n3/3 [==============================] - 0s 3ms/step - loss: 2.3624e-05 - mse: 2.3624e-05\nEpoch 37/50\n3/3 [==============================] - 0s 4ms/step - loss: 2.3363e-05 - mse: 2.3363e-05\nEpoch 38/50\n3/3 [==============================] - 0s 2ms/step - loss: 2.3247e-05 - mse: 2.3247e-05\nEpoch 39/50\n3/3 [==============================] - 0s 3ms/step - loss: 2.2148e-05 - mse: 2.2148e-05\nEpoch 40/50\n3/3 [==============================] - 0s 3ms/step - loss: 2.1778e-05 - mse: 2.1778e-05\nEpoch 41/50\n3/3 [==============================] - 0s 2ms/step - loss: 2.1469e-05 - mse: 2.1469e-05\nEpoch 42/50\n3/3 [==============================] - 0s 2ms/step - loss: 2.1457e-05 - mse: 2.1457e-05\nEpoch 43/50\n3/3 [==============================] - 0s 3ms/step - loss: 2.1504e-05 - mse: 2.1504e-05\nEpoch 44/50\n3/3 [==============================] - 0s 2ms/step - loss: 2.1007e-05 - mse: 2.1007e-05\nEpoch 45/50\n3/3 [==============================] - 0s 2ms/step - loss: 2.0742e-05 - mse: 2.0742e-05\nEpoch 46/50\n3/3 [==============================] - 0s 2ms/step - loss: 2.1547e-05 - mse: 2.1547e-05\nEpoch 47/50\n3/3 [==============================] - 0s 3ms/step - loss: 2.0931e-05 - mse: 2.0931e-05\nEpoch 48/50\n3/3 [==============================] - 0s 2ms/step - loss: 2.0304e-05 - mse: 2.0304e-05\nEpoch 49/50\n3/3 [==============================] - 0s 2ms/step - loss: 2.0411e-05 - mse: 2.0411e-05\nEpoch 50/50\n3/3 [==============================] - 0s 2ms/step - loss: 2.0146e-05 - mse: 2.0146e-05\n"
    }
   ],
   "source": [
    "history = model.fit(X_train, Y_train, epochs=50, batch_size=40)"
   ]
  },
  {
   "cell_type": "code",
   "execution_count": null,
   "metadata": {},
   "outputs": [],
   "source": []
  }
 ],
 "metadata": {
  "language_info": {
   "codemirror_mode": {
    "name": "ipython",
    "version": 3
   },
   "file_extension": ".py",
   "mimetype": "text/x-python",
   "name": "python",
   "nbconvert_exporter": "python",
   "pygments_lexer": "ipython3",
   "version": "3.9.7-final"
  },
  "orig_nbformat": 2,
  "kernelspec": {
   "name": "python3",
   "display_name": "Python 3 (ipykernel)"
  }
 },
 "nbformat": 4,
 "nbformat_minor": 2
}